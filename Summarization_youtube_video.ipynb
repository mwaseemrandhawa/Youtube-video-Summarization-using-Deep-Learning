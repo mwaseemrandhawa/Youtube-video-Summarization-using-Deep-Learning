{
  "nbformat": 4,
  "nbformat_minor": 0,
  "metadata": {
    "colab": {
      "provenance": []
    },
    "kernelspec": {
      "name": "python3",
      "display_name": "Python 3"
    },
    "language_info": {
      "name": "python"
    },
    "accelerator": "GPU",
    "gpuClass": "standard"
  },
  "cells": [
    {
      "cell_type": "code",
      "execution_count": null,
      "metadata": {
        "colab": {
          "base_uri": "https://localhost:8080/"
        },
        "id": "8vPlrvyRWN0o",
        "outputId": "bbe7f90d-0666-4c31-c5fc-cb16216e28fe"
      },
      "outputs": [
        {
          "output_type": "stream",
          "name": "stdout",
          "text": [
            "Mounted at /gdrive\n",
            "/gdrive/My Drive/youtubeproject\n"
          ]
        }
      ],
      "source": [
        "from google.colab import drive \n",
        "drive.mount('/gdrive')\n",
        "%cd /gdrive/My\\ Drive/{'youtubeproject'}"
      ]
    },
    {
      "cell_type": "code",
      "source": [
        "!pip install pytube\n",
        "! pip install git+https://github.com/openai/whisper.git -q"
      ],
      "metadata": {
        "colab": {
          "base_uri": "https://localhost:8080/"
        },
        "id": "l-oZ1RIiYAUB",
        "outputId": "707ec729-0f77-4ea2-cfff-1e74cbf13c3f"
      },
      "execution_count": null,
      "outputs": [
        {
          "output_type": "stream",
          "name": "stdout",
          "text": [
            "Looking in indexes: https://pypi.org/simple, https://us-python.pkg.dev/colab-wheels/public/simple/\n",
            "Collecting pytube\n",
            "  Downloading pytube-12.1.3-py3-none-any.whl (57 kB)\n",
            "\u001b[2K     \u001b[90m━━━━━━━━━━━━━━━━━━━━━━━━━━━━━━━━━━━━━━━━\u001b[0m \u001b[32m57.2/57.2 kB\u001b[0m \u001b[31m3.6 MB/s\u001b[0m eta \u001b[36m0:00:00\u001b[0m\n",
            "\u001b[?25hInstalling collected packages: pytube\n",
            "Successfully installed pytube-12.1.3\n",
            "  Installing build dependencies ... \u001b[?25l\u001b[?25hdone\n",
            "  Getting requirements to build wheel ... \u001b[?25l\u001b[?25hdone\n",
            "  Preparing metadata (pyproject.toml) ... \u001b[?25l\u001b[?25hdone\n",
            "\u001b[2K     \u001b[90m━━━━━━━━━━━━━━━━━━━━━━━━━━━━━━━━━━━━━━━━\u001b[0m \u001b[32m1.7/1.7 MB\u001b[0m \u001b[31m26.5 MB/s\u001b[0m eta \u001b[36m0:00:00\u001b[0m\n",
            "\u001b[?25h  Building wheel for openai-whisper (pyproject.toml) ... \u001b[?25l\u001b[?25hdone\n"
          ]
        }
      ]
    },
    {
      "cell_type": "code",
      "source": [
        "from pytube import YouTube\n",
        "import os"
      ],
      "metadata": {
        "id": "wZ4LXPvKWVac"
      },
      "execution_count": null,
      "outputs": []
    },
    {
      "cell_type": "code",
      "source": [
        "def downloadyt(video_links):\n",
        "      YouTube(video_links).streams.first().download('videos')\n",
        "      return None"
      ],
      "metadata": {
        "id": "6brX0yRKWcvO"
      },
      "execution_count": null,
      "outputs": []
    },
    {
      "cell_type": "code",
      "source": [
        "video_link = \"https://www.youtube.com/watch?v=RWy0ocTXp5Q&ab_channel=LexClips\"\n",
        "downloadyt(video_link)"
      ],
      "metadata": {
        "id": "wyKY7C_zWkAC"
      },
      "execution_count": null,
      "outputs": []
    },
    {
      "cell_type": "code",
      "source": [
        "import glob\n",
        "import whisper\n",
        "model = whisper.load_model(\"medium\")\n",
        "list_text=[]\n",
        "for path in glob.glob('videos/*.3gpp'):\n",
        "  result = model.transcribe(path)   \n",
        "  list_text.append(result['text'])"
      ],
      "metadata": {
        "id": "PSUQUAgEXE5b",
        "colab": {
          "base_uri": "https://localhost:8080/"
        },
        "outputId": "ad9b835c-bb42-4839-bce1-84d38796ff20"
      },
      "execution_count": null,
      "outputs": [
        {
          "output_type": "stream",
          "name": "stderr",
          "text": [
            "100%|██████████████████████████████████████| 1.42G/1.42G [00:12<00:00, 122MiB/s]\n"
          ]
        }
      ]
    },
    {
      "cell_type": "code",
      "source": [
        "files = glob.glob('videos/*')\n",
        "for f in files:\n",
        "    os.remove(f)"
      ],
      "metadata": {
        "id": "rA1sgs9AXPhr"
      },
      "execution_count": null,
      "outputs": []
    },
    {
      "cell_type": "code",
      "source": [
        "len(list_text)"
      ],
      "metadata": {
        "colab": {
          "base_uri": "https://localhost:8080/"
        },
        "id": "wYkiLlDIXWdk",
        "outputId": "6a4582d1-8755-4a99-9e7f-67a5d2dc300f"
      },
      "execution_count": null,
      "outputs": [
        {
          "output_type": "execute_result",
          "data": {
            "text/plain": [
              "1"
            ]
          },
          "metadata": {},
          "execution_count": 23
        }
      ]
    },
    {
      "cell_type": "code",
      "source": [
        "list_text"
      ],
      "metadata": {
        "colab": {
          "base_uri": "https://localhost:8080/"
        },
        "id": "ixHlfX9-XYE7",
        "outputId": "5d850d05-5286-4b1c-bbc2-69cbf285b86e"
      },
      "execution_count": null,
      "outputs": [
        {
          "output_type": "execute_result",
          "data": {
            "text/plain": [
              "[\" This video is about optimistic, pessimistic, and my own estimates of how many intelligent alien civilizations might be out there. I center this video around the Drake Equation that combines a bunch of parameters, multiplies them together, and the estimates based on that, the number of alien civilizations in our galaxy, the Milky Way galaxy, and the observable universe. In general, this video is probably less about the estimates themselves and more about the mysteries behind the very question. Quick thanks to our two sponsors, Brave Browser, good for your privacy, and NeuroGum, good for your brain. Check them out in the description to support the podcast I host. Okay, the Drake Equation combines seven parameters, I added an eighth one here. I'm not using the symbols in the equation because it's too easy for people to forget what each one stands for. The variables build on each other, hence the multiplication. Okay, they are the number of new stars born per year, the percent of those stars that have planets, the number of habitable planets per star, the chance of life developing on one of those planets, then the chance of intelligent life developing, and finally the chance of that intelligent civilization advancing far enough to develop the technology to be able to communicate, in our case through electromagnetic signal. Seventh is the lifetime of that civilization while it's in the communicating stage of its development. And finally, the eighth parameter that wasn't in the original Drake Equation is the average number of times that a civilization is born on a planet. That is one time is it's born and it becomes completely extinct and is reborn again. This parameter makes sense since the age of a planet can be billions of years. And then you multiply it all together to get the estimated answer to our question. I list today's estimates for the optimistic and the pessimistic based on the most recent publications that I'm aware of and today's estimates for me based on how I'm actually feeling today. This estimate probably drastically changes from day to day or from hour to hour within the day based on my optimism on several of the parameters I'll talk about. I should say that the optimistic and the pessimistic estimates don't reflect the best case and the worst case. They simply reflect a reasonable estimate for a high value for these parameters and a low value for these parameters. Okay, the number of new stars born per year. The pessimistic one is 1.5 and the optimistic is 3. I tend to side with a 3. The 1.5 to 3 stars per year is the latest estimate as of about five years ago from NASA. Most recent relevant paper that I'm aware of is in 2015. Either way, the variability on this parameter is not very large. Let's just wait until later. Okay, the percent of these stars with planets. This is a little bit tricky, but it seems to me as of 2012, just looking at some papers, almost everyone seems to believe that now pretty much all of these star systems have planets around them. Somebody's probably going to argue for the pessimistic one being decreased to like 90% or even the previous one of like 30 or even 20%. I don't think this affects it that much. The evidence seems to indicate that pretty much every star has a planet around it. I like big rocks and I like gravity, so I think this is pretty exciting. The number of habitable planets per star. This is where we start to get into some fun debate, probably mainly centered around the word habitable. Like what does it mean for a planet to be habitable? The argument for the optimistic view is it's pretty simple to be in the habitable zone of a star if it's all just about the range of distances from the star. The more interesting argument for me that I tend to hold is that in order for a planet to be habitable, meaning support life in the broad definition of what life is, the planet doesn't necessarily need to be Earth-like. There could be totally different kinds of planets that are able to support life that we're not even aware of. Those who argue for the low estimate, like the general set of ideas behind the rare Earth hypothesis that you should check out, places a lot more constraints on habitability like suitably low radiation, high star metallicity, which by the way from an astronomer perspective, a metal is anything that's not hydrogen or helium. So carbon is a metal. There you go. Fun facts with Lex. Okay, continuing the list of constraints. Low enough density to avoid excessive asteroid bombardment. And there's much more. There's a long list. I don't know which one of these is most constraining to be honest, but it really centers around the question stated by the rare Earth hypothesis. Does a habitable planet really have to be Earth-like? And exactly how close to the precise conditions of Earth does it have to be? Next parameter is the probability of life developing on a habitable planet. This parameter to me is super exciting, especially because it is one of the biggest open questions within the reach of science. If we discover hard evidence of life on Mars, for example, even if it's extinct, or on Europa, the icy moon of Jupiter, and maybe more concrete evidence about life on Venus that was recently discovered in gaseous form and phosphine, I think, in the atmosphere. So if there's like some good concrete evidence of life on another planet, that shows to you that the probability of life developing is quite high. So the day-to-day variability in my estimate has to do with how optimistic I am about us discovering life on the planets or moons in our solar system. Going by recent papers, the optimistic is 13%. The pessimistic is 0.1%. I go somewhere between those all the time, sometimes much closer to 13%. Today, it's 1%. We're the 1%, folks. The argument, I think, for the high estimate is that life on Earth appears to have started quickly after conditions were right for it. So if it started super quickly on Earth, maybe it's pretty easy to start when the conditions are right. And the conditions would be right if we passed the previous parameter of it being a habitable planet. Again, these parameters stack on top of each other, meaning they're conditioned on whatever the thing that the previous parameter represents being true. If we stick just on Earth for our evidence, then the argument for the pessimistic view is that there doesn't seem to be evidence of a biogenesis or the origination of life occurring more than once on Earth. As far as I could tell, I did not see any good evidence that life sprung up on Earth more than once, meaning evidence of very different kinds of ancestor organisms. All right, now we're starting to have some fun. The probability of intelligent life developing. This is, of course, probably what I talk a lot about in the context of artificial intelligence. Optimistic estimate I've seen is 1%, and the pessimistic one is 0.1%. I tend to actually see this as pretty high probability. In fact, I think that once life starts, intelligence is basically 100%. It's almost inevitable if given enough time. The open question to me is how long do there have to be a range of stable conditions that support the evolution of life and what precisely that range is once life gets going. In general, the argument for the higher value is that complexity of systems seems to increase effortlessly. The argument for the lower value is that humans are allegedly the only intelligent species on Earth among a lot of the species that have lived here. It may be quite difficult even for the evolutionary process to create something like the human brain, which I do think is quite a special creation despite its, in my case, occasional manifestation as dad jokes on Twitter. Okay. Oh, and I don't understand the optimistic estimate, 1%, that I saw in a few places, so I doubled it to 2%. That's where I stand on the probability of intelligent life developing. There you go. Double it. Okay. Ability to communicate. I kind of think of this as the percent of civilizations that become technologically advanced in a more general context of building advanced technologies. And I tend to see communication as bigger here than maybe the original Drake estimate did in that it's likely to go beyond electromagnetic communication, something that we're not even aware of currently. So the argument for the high value here is that, again, systems seem to increase in complexity effortlessly. So it seems to me that tech advancement is inevitable once you have a sufficiently intelligent civilization. The arguments that I find somewhat interesting for the more pessimistic estimate is that civilizations perhaps in time tend to isolate themselves. They perhaps lose interest in colonization or just broadly in the whole task of exploration and communication. Another idea is that possibly there is a divergent methodology to the ways that intelligent civilizations might communicate. So there might not be intersection about them being able to communicate with each other, like totally new ways of information transfer that we're just not even aware of currently, which does not involve any kind of leakage of signal that would nevertheless still be detectable. So I tend to be on the optimistic side of communication ability developing with the 20% estimate. Next is the lifetime of the civilization once it's already in that communicating advanced technology stage. I think this is one of the more interesting, one of the more open parameters that basically changes the game in the final estimate. This is where the most variability comes from. The previous parameters I find inspiring as a scientist and engineer. This parameter I find inspiring as a human because the higher we can get it up as a human civilization, the more likely it is that we make extensive, deep, meaningful contact with other intelligent alien civilizations. So the optimistic values here are very high and they range all over the place, but it centers around the idea that there's one or multiple great filters and once we get past them as a technological civilization, then we're basically immortal from a civilization perspective that we will increasingly colonize space, I guess diversifying our use of resources such that it becomes increasingly more difficult to destroy ourselves through the various existential threats that we face. The pessimistic estimate, if we look at human civilization as an average case and assume we destroy ourselves within a couple of years, then for humans the stage of advanced technology is only less than about 100 years when we were able to send out explicit electromagnetic signal. Of course, I don't think we chose to do so explicitly until maybe a few decades ago. I don't remember. I think it was the 70s. Stairway to Heaven led Zeppelin era. There you go. My estimate, to be honest, in terms of the survival of human civilization is almost always pretty optimistic. The actual estimate of the lifetime ranges all over the place. I think my current estimate, I just put it 10,000 years. I think even that is really far away. That's a hundred centuries from now. We're just in the first 100, 150 years of our advanced technological development. What's going to happen in the next 100 of those, especially given that the rate of innovation seems to be accelerating, the essentials of my optimism is grounded in the fact that the forces of good will be able to out-innovate the forces of evil. Now, what that looks like 10,000 years from now is impossible for me to even imagine. I'm uncomfortable with an estimate of one billion years from now. That's why I put my optimistic, but not too optimistic, estimate of a lifetime of advanced technological civilization at 10,000 years. We're 100 years in, 9,900 years to go to prove me wrong. Finally, this extra parameter of the number of times a civilization is born on the planet, given the age of a planet, and if it is habitable, then I think and some optimistic estimates think that it's possible for intelligent civilizations to be reborn on the planet and put that value at three. The original estimate, of course, it wasn't part of the Drake equation, so it was at one. That's the pessimistic estimate. We multiply all these together. Of course, the percentages are treated as fractions. 13% is 0.13, for example. The result of that multiplication is the estimate of intelligent alien civilizations that are capable of communicating in our galaxy. For these three estimates, the result is 468,000 for the optimistic estimate, very, very close to zero for the pessimistic estimate, and 0.7 for my estimate. Now, that's for our Milky Way galaxy. Interestingly enough, the estimates for the number of galaxies in the observable universe seems to be changing and growing, actually. The current estimate that I'm aware of is actually two trillion galaxies, which is a very high number. If we look at the number of alien communicating civilizations in the universe, it's 940 quadrillion, which is 1,000 trillion for the optimistic estimate. It's 300,000 for the pessimistic estimate and 1.4 trillion for my estimate as of this hour today. Obviously, there's quite a bit of variability, and I find it quite entertaining that my estimate landed on very close to one, which aligns well with the idea that if we're pretty average in the Milky Way, it's pretty average that we just may be the only ones in the Milky Way galaxy, but every galaxy's got one. There's a bunch of takeaways I have from this quick thought experiment, and the reason I made the videos I wanted to go through the thought experiment, provide my estimates, and also reason through the very question itself and some of the open questions around the estimate. My current view is that we're not alone in terms of communicating alien intelligence civilizations in the universe, but the sense I have in terms of the very concept of communication is that we don't yet have the tools of science to understand what it means to communicate with alien intelligence. I tend to believe that aliens are very unlikely to have the humanoid form, that much more likely the variety of life is greater than we imagine and greater than we can imagine. Some of the variability would perhaps invalidate entirely the very structure of the Drake equation itself, which makes a lot of cosmological assumptions. Life could exist in different dimensions, whatever the heck that would even mean for a physics perspective. As Carl Sagan talked about, it could exist on very different time scales and very different spatial scales, which would make communication to us appear, like I think Sagan said, like noise because of our tools, but also because of the human-centric perspective we have on intelligence that we're just not accustomed to trying to detect signal that operates in a different time scale and even on a different spatial scale. And not just life itself, I think the variety and extent of intelligence and communication methodology is greater than we can imagine and greater than we can imagine. Intelligent beings could operate at different conceptual spaces or layers of abstraction. The nature of communication, I think for humans it's in the space of ideas. It could be in the space of experiences or it could be in the space of whatever lays behind consciousness, for example. Consciousness itself may be aliens communicating with us. I mean, from the current scientific perspective, all this sounds pretty crazy, but if you step away and just think from first principles of how little we actually understand about the basic nature of the human mind, then you have to think that understanding our mind may unlock some totally new ways of communication and unlock our understanding of what it means to be an intelligent civilization that will totally transform the estimates provided by the Drake equation. And that's why I think it's really inspiring to scientists, engineers, just curious minds that the pursuits may be in my field of AI and perhaps eventually the field of AI starts to encompassing the concepts of artificial consciousness. I think that provides the opportunity for both the scientists and the engineers to understand the human mind and to build artificial versions of it, you know, artificial general intelligence. And that seems to hold the key. And that as an engineering problem, as a scientific problem, seems to hold the key for us to be able to better understand what kind of other intelligent civilizations might be out there. Again, that's super exciting because in a sense, understanding ourselves is one way to search for intelligent civilizations out there. And in general, as I mentioned, I think all or at least most of the parameters in the Drake equation can be illuminated through science and through our engineering pursuits. So if we discover life on Mars, for example, that shows that life is doable elsewhere. If we are able to build artificial general intelligence systems, at least to me, that shows that intelligence is doable elsewhere other than the human brain. And, you know, as a society, if we're able to avoid existential risks that are before us today, I think that shows that survival is doable elsewhere. OK, looking at point three, four and five quickly, let me say that this whole idea of other intelligent alien civilizations out there is really exciting and inspiring to me. So I hope that governments, nation states will be able to look at the search for intelligent life, not as a threat, not as something that you keep as a secret, but as something that can inspire us. I think we're humans first and Americans second. We're curious descendants of apes. And I think that idea of threats and secrecy, I hope, will become an outdated concept. But of course, it's not just about hope. You have to work hard to make it happen. You have to have actual practical ideas how we get there because right now the old systems are stuck in this place where it's nice to have two superpowers fighting against each other. There's the Soviet Union, the United States, maybe the 21st century will be defined by China versus the United States and so on. I think it's possible and I think we have to build systems that move us beyond that. I think for point number four, I think doing so is essential for the survival of the human species. Again, that's my current view, but I think about this a lot and I go back and forth. It mostly has to do about at least my thinking on how much evil there is in the world. And right now, for a time at least, I'm quite optimistic about the fundamental good in human nature. And finally, of course, in terms of increasing the lifetime of human civilization, but in general, finding intelligent life out there, I think space exploration is really exciting. In general, this whole topic, the reason I made this video, the reason I have sometimes these conversations about aliens is I do believe that science is the best tool we have, but we can still have an open mind to the mystery of the universe around us. And of course, to me, the most fascinating, the mystery of the human mind itself. So clearly, this particular human mind has to apologize for the probably too long, boring rambling about aliens. But I hope for the few of you still listening that it was at least somewhat interesting. Again, please do check out the Brave browser and NeuroGum sponsors in the description to show support for the podcast that I host. Thanks for tuning in. See you next time. Bye.\"]"
            ]
          },
          "metadata": {},
          "execution_count": 24
        }
      ]
    },
    {
      "cell_type": "code",
      "source": [
        "!pip install transformers\n",
        "!pip install sentencepiece"
      ],
      "metadata": {
        "colab": {
          "base_uri": "https://localhost:8080/"
        },
        "id": "ytQyRC2NaE-M",
        "outputId": "feb78d2e-f1bb-4625-dd8c-a92968e6ffda"
      },
      "execution_count": null,
      "outputs": [
        {
          "output_type": "stream",
          "name": "stdout",
          "text": [
            "Looking in indexes: https://pypi.org/simple, https://us-python.pkg.dev/colab-wheels/public/simple/\n",
            "Requirement already satisfied: transformers in /usr/local/lib/python3.9/dist-packages (4.28.0)\n",
            "Requirement already satisfied: numpy>=1.17 in /usr/local/lib/python3.9/dist-packages (from transformers) (1.22.4)\n",
            "Requirement already satisfied: tqdm>=4.27 in /usr/local/lib/python3.9/dist-packages (from transformers) (4.65.0)\n",
            "Requirement already satisfied: pyyaml>=5.1 in /usr/local/lib/python3.9/dist-packages (from transformers) (6.0)\n",
            "Requirement already satisfied: huggingface-hub<1.0,>=0.11.0 in /usr/local/lib/python3.9/dist-packages (from transformers) (0.13.4)\n",
            "Requirement already satisfied: filelock in /usr/local/lib/python3.9/dist-packages (from transformers) (3.11.0)\n",
            "Requirement already satisfied: requests in /usr/local/lib/python3.9/dist-packages (from transformers) (2.27.1)\n",
            "Requirement already satisfied: packaging>=20.0 in /usr/local/lib/python3.9/dist-packages (from transformers) (23.0)\n",
            "Requirement already satisfied: regex!=2019.12.17 in /usr/local/lib/python3.9/dist-packages (from transformers) (2022.10.31)\n",
            "Requirement already satisfied: tokenizers!=0.11.3,<0.14,>=0.11.1 in /usr/local/lib/python3.9/dist-packages (from transformers) (0.13.3)\n",
            "Requirement already satisfied: typing-extensions>=3.7.4.3 in /usr/local/lib/python3.9/dist-packages (from huggingface-hub<1.0,>=0.11.0->transformers) (4.5.0)\n",
            "Requirement already satisfied: urllib3<1.27,>=1.21.1 in /usr/local/lib/python3.9/dist-packages (from requests->transformers) (1.26.15)\n",
            "Requirement already satisfied: certifi>=2017.4.17 in /usr/local/lib/python3.9/dist-packages (from requests->transformers) (2022.12.7)\n",
            "Requirement already satisfied: charset-normalizer~=2.0.0 in /usr/local/lib/python3.9/dist-packages (from requests->transformers) (2.0.12)\n",
            "Requirement already satisfied: idna<4,>=2.5 in /usr/local/lib/python3.9/dist-packages (from requests->transformers) (3.4)\n",
            "Looking in indexes: https://pypi.org/simple, https://us-python.pkg.dev/colab-wheels/public/simple/\n",
            "Requirement already satisfied: sentencepiece in /usr/local/lib/python3.9/dist-packages (0.1.98)\n"
          ]
        }
      ]
    },
    {
      "cell_type": "code",
      "source": [
        "from transformers import AutoTokenizer, AutoModelForSeq2SeqLM\n",
        "model_name = \"csebuetnlp/mT5_multilingual_XLSum\" # you can specify the model size here\n",
        "tokenizer = AutoTokenizer.from_pretrained(model_name,use_fast=False)\n",
        "model = AutoModelForSeq2SeqLM.from_pretrained(\"csebuetnlp/mT5_multilingual_XLSum\")"
      ],
      "metadata": {
        "id": "NZTseZtl4rFk"
      },
      "execution_count": null,
      "outputs": []
    },
    {
      "cell_type": "code",
      "source": [
        "tokens_input = tokenizer.encode(\"summarize: \"+list_text[0], return_tensors='pt', max_length=512, truncation=True)\n",
        "summary_ids = model.generate(tokens_input, min_length=80, max_length=120)\n",
        "summary = tokenizer.decode(summary_ids[0], skip_special_tokens=True)\n",
        "print(summary)"
      ],
      "metadata": {
        "colab": {
          "base_uri": "https://localhost:8080/"
        },
        "id": "lX5qUAC7AA4u",
        "outputId": "4cca9e71-16cf-488c-cedb-864e557e62fb"
      },
      "execution_count": null,
      "outputs": [
        {
          "output_type": "stream",
          "name": "stdout",
          "text": [
            "In our series of letters from African journalists, writer and broadcaster, Dr John Wright, explains how many intelligent alien civilizations might be out there in our galaxy, the Milky Way  Galaxy, and the observable universe. Here, he describes the estimated estimates for the BBC's Drake Equation - and what does it mean\n"
          ]
        }
      ]
    },
    {
      "cell_type": "code",
      "source": [
        "len(summary)"
      ],
      "metadata": {
        "colab": {
          "base_uri": "https://localhost:8080/"
        },
        "id": "hb7V7p0PSVA0",
        "outputId": "0d6924a7-ad70-4a58-c739-dc5464570be4"
      },
      "execution_count": null,
      "outputs": [
        {
          "output_type": "execute_result",
          "data": {
            "text/plain": [
              "322"
            ]
          },
          "metadata": {},
          "execution_count": 32
        }
      ]
    }
  ]
}